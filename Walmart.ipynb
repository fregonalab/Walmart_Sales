{
  "nbformat": 4,
  "nbformat_minor": 0,
  "metadata": {
    "colab": {
      "name": "Walmart.ipynb",
      "provenance": [],
      "collapsed_sections": [],
      "authorship_tag": "ABX9TyMhXhaR8gYI/UmoVPv8weIV",
      "include_colab_link": true
    },
    "kernelspec": {
      "name": "python3",
      "display_name": "Python 3"
    },
    "language_info": {
      "name": "python"
    }
  },
  "cells": [
    {
      "cell_type": "markdown",
      "metadata": {
        "id": "view-in-github",
        "colab_type": "text"
      },
      "source": [
        "<a href=\"https://colab.research.google.com/github/fregonalab/Walmart_Sales/blob/master/Walmart.ipynb\" target=\"_parent\"><img src=\"https://colab.research.google.com/assets/colab-badge.svg\" alt=\"Open In Colab\"/></a>"
      ]
    },
    {
      "cell_type": "code",
      "execution_count": 22,
      "metadata": {
        "id": "eEYOceaOIAnc"
      },
      "outputs": [],
      "source": [
        "# Importação das bibliotecas\n",
        "# ---- Basics\n",
        "import pandas as pd\n",
        "import numpy as np\n",
        "import seaborn as sns\n",
        "import matplotlib.pyplot as plt\n",
        "import matplotlib.gridspec as gridspec\n",
        "\n",
        "# ---- Pré-processamento\n",
        "from sklearn.model_selection import train_test_split, cross_val_score, GridSearchCV\n",
        "from sklearn.preprocessing import StandardScaler\n",
        "\n",
        "# ---- Possíveis Modelos utilizados\n",
        "\n",
        "from sklearn.svm import SVR\n",
        "from sklearn.tree import DecisionTreeRegressor\n",
        "from sklearn.linear_model import LinearRegression, Ridge, Lasso, LassoCV, ElasticNet, ElasticNetCV, HuberRegressor, LassoLars, BayesianRidge\n",
        "from sklearn.linear_model import SGDRegressor\n",
        "from sklearn.ensemble import RandomForestRegressor, AdaBoostRegressor, GradientBoostingRegressor, ExtraTreesRegressor\n",
        "\n",
        "# ---- Cálculo das Métricas\n",
        "from sklearn import metrics\n",
        "\n",
        "# Eliminar warnings\n",
        "import warnings\n",
        "warnings.filterwarnings('ignore')"
      ]
    },
    {
      "cell_type": "code",
      "source": [
        "#Funções construidas anteriormente para facilitar processos comuns ao pré-processamento dos dados\n",
        "\n",
        "#Desenhar box-plots para todas as variáveis\n",
        "def draw_boxplots(df, selected_features):\n",
        "  n = len(selected_features)\n",
        "  fig = plt.figure(constrained_layout=True, figsize=(20, 30))\n",
        "  gs = gridspec.GridSpec(int(n/3) + 1, 3, figure=fig)\n",
        "  for i in range(n):\n",
        "    k = int(i / 3)\n",
        "    j = i % 3\n",
        "    col = selected_features[i]\n",
        "    ax = fig.add_subplot(gs[k, j])\n",
        "    ax.set_title(col)\n",
        "    ax.boxplot(df[col])\n",
        "\n",
        "#Remoção de outliers por interquartis - boxplots\n",
        "def replace_outliers(df, var_names):\n",
        "  for var_name in var_names:\n",
        "    # calculating Q1 and Q3\n",
        "    Q1 = df.loc[:,var_name].quantile(0.25)\n",
        "    Q3 = df.loc[:,var_name].quantile(0.75)\n",
        "    # calculating Interquartile IQR\n",
        "    IQR = Q3 - Q1\n",
        "    # build up filter\n",
        "    filter_up = (df.loc[:,var_name] > Q3 + 1.5 *IQR)\n",
        "    # apply up filter on df\n",
        "    df.loc[filter_up, var_name] = Q3 + 1.5 *IQR\n",
        "    # build down filter\n",
        "    filter_down = (df.loc[:,var_name] < Q1 - 1.5 * IQR)\n",
        "    # apply down filter on df\n",
        "    df.loc[filter_down, var_name] = Q1 - 1.5 * IQR\n"
      ],
      "metadata": {
        "id": "YW5qcWz8g3kb"
      },
      "execution_count": 20,
      "outputs": []
    },
    {
      "cell_type": "code",
      "source": [
        "from google.colab import drive\n",
        "drive.mount('/content/drive')"
      ],
      "metadata": {
        "colab": {
          "base_uri": "https://localhost:8080/"
        },
        "id": "Fo3fj3nkIOg8",
        "outputId": "8412c5ca-d00e-4c6f-e1fc-279956f12ab2"
      },
      "execution_count": 2,
      "outputs": [
        {
          "output_type": "stream",
          "name": "stdout",
          "text": [
            "Mounted at /content/drive\n"
          ]
        }
      ]
    },
    {
      "cell_type": "code",
      "source": [
        "df_features = pd.read_csv('/content/drive/MyDrive/walmart/features.csv')\n",
        "df_stores = pd.read_csv('/content/drive/MyDrive/walmart/stores.csv')\n",
        "df_sales = pd.read_csv('/content/drive/MyDrive/walmart/train.csv')"
      ],
      "metadata": {
        "id": "yzxmIA3UIH_h"
      },
      "execution_count": 3,
      "outputs": []
    },
    {
      "cell_type": "markdown",
      "source": [
        "## 1.1 Tratamento dos dados"
      ],
      "metadata": {
        "id": "CxxHkGMTJXJf"
      }
    },
    {
      "cell_type": "markdown",
      "source": [
        "Para facilitar a limpeza vamos juntar todos os bancos de dados primeiro!"
      ],
      "metadata": {
        "id": "tr0gkT2edxno"
      }
    },
    {
      "cell_type": "code",
      "source": [
        "df_features.head(2)"
      ],
      "metadata": {
        "colab": {
          "base_uri": "https://localhost:8080/",
          "height": 112
        },
        "id": "mghlpUw4Uc0g",
        "outputId": "f90e3999-2bdd-450b-b549-d449c811432e"
      },
      "execution_count": null,
      "outputs": [
        {
          "output_type": "execute_result",
          "data": {
            "text/plain": [
              "   Store        Date  Temperature  Fuel_Price  MarkDown1  MarkDown2  \\\n",
              "0      1  2010-02-05        42.31       2.572        NaN        NaN   \n",
              "1      1  2010-02-12        38.51       2.548        NaN        NaN   \n",
              "\n",
              "   MarkDown3  MarkDown4  MarkDown5         CPI  Unemployment  IsHoliday  \n",
              "0        NaN        NaN        NaN  211.096358         8.106      False  \n",
              "1        NaN        NaN        NaN  211.242170         8.106       True  "
            ],
            "text/html": [
              "\n",
              "  <div id=\"df-db88b88d-6947-4d37-ac5d-9c10cb098cae\">\n",
              "    <div class=\"colab-df-container\">\n",
              "      <div>\n",
              "<style scoped>\n",
              "    .dataframe tbody tr th:only-of-type {\n",
              "        vertical-align: middle;\n",
              "    }\n",
              "\n",
              "    .dataframe tbody tr th {\n",
              "        vertical-align: top;\n",
              "    }\n",
              "\n",
              "    .dataframe thead th {\n",
              "        text-align: right;\n",
              "    }\n",
              "</style>\n",
              "<table border=\"1\" class=\"dataframe\">\n",
              "  <thead>\n",
              "    <tr style=\"text-align: right;\">\n",
              "      <th></th>\n",
              "      <th>Store</th>\n",
              "      <th>Date</th>\n",
              "      <th>Temperature</th>\n",
              "      <th>Fuel_Price</th>\n",
              "      <th>MarkDown1</th>\n",
              "      <th>MarkDown2</th>\n",
              "      <th>MarkDown3</th>\n",
              "      <th>MarkDown4</th>\n",
              "      <th>MarkDown5</th>\n",
              "      <th>CPI</th>\n",
              "      <th>Unemployment</th>\n",
              "      <th>IsHoliday</th>\n",
              "    </tr>\n",
              "  </thead>\n",
              "  <tbody>\n",
              "    <tr>\n",
              "      <th>0</th>\n",
              "      <td>1</td>\n",
              "      <td>2010-02-05</td>\n",
              "      <td>42.31</td>\n",
              "      <td>2.572</td>\n",
              "      <td>NaN</td>\n",
              "      <td>NaN</td>\n",
              "      <td>NaN</td>\n",
              "      <td>NaN</td>\n",
              "      <td>NaN</td>\n",
              "      <td>211.096358</td>\n",
              "      <td>8.106</td>\n",
              "      <td>False</td>\n",
              "    </tr>\n",
              "    <tr>\n",
              "      <th>1</th>\n",
              "      <td>1</td>\n",
              "      <td>2010-02-12</td>\n",
              "      <td>38.51</td>\n",
              "      <td>2.548</td>\n",
              "      <td>NaN</td>\n",
              "      <td>NaN</td>\n",
              "      <td>NaN</td>\n",
              "      <td>NaN</td>\n",
              "      <td>NaN</td>\n",
              "      <td>211.242170</td>\n",
              "      <td>8.106</td>\n",
              "      <td>True</td>\n",
              "    </tr>\n",
              "  </tbody>\n",
              "</table>\n",
              "</div>\n",
              "      <button class=\"colab-df-convert\" onclick=\"convertToInteractive('df-db88b88d-6947-4d37-ac5d-9c10cb098cae')\"\n",
              "              title=\"Convert this dataframe to an interactive table.\"\n",
              "              style=\"display:none;\">\n",
              "        \n",
              "  <svg xmlns=\"http://www.w3.org/2000/svg\" height=\"24px\"viewBox=\"0 0 24 24\"\n",
              "       width=\"24px\">\n",
              "    <path d=\"M0 0h24v24H0V0z\" fill=\"none\"/>\n",
              "    <path d=\"M18.56 5.44l.94 2.06.94-2.06 2.06-.94-2.06-.94-.94-2.06-.94 2.06-2.06.94zm-11 1L8.5 8.5l.94-2.06 2.06-.94-2.06-.94L8.5 2.5l-.94 2.06-2.06.94zm10 10l.94 2.06.94-2.06 2.06-.94-2.06-.94-.94-2.06-.94 2.06-2.06.94z\"/><path d=\"M17.41 7.96l-1.37-1.37c-.4-.4-.92-.59-1.43-.59-.52 0-1.04.2-1.43.59L10.3 9.45l-7.72 7.72c-.78.78-.78 2.05 0 2.83L4 21.41c.39.39.9.59 1.41.59.51 0 1.02-.2 1.41-.59l7.78-7.78 2.81-2.81c.8-.78.8-2.07 0-2.86zM5.41 20L4 18.59l7.72-7.72 1.47 1.35L5.41 20z\"/>\n",
              "  </svg>\n",
              "      </button>\n",
              "      \n",
              "  <style>\n",
              "    .colab-df-container {\n",
              "      display:flex;\n",
              "      flex-wrap:wrap;\n",
              "      gap: 12px;\n",
              "    }\n",
              "\n",
              "    .colab-df-convert {\n",
              "      background-color: #E8F0FE;\n",
              "      border: none;\n",
              "      border-radius: 50%;\n",
              "      cursor: pointer;\n",
              "      display: none;\n",
              "      fill: #1967D2;\n",
              "      height: 32px;\n",
              "      padding: 0 0 0 0;\n",
              "      width: 32px;\n",
              "    }\n",
              "\n",
              "    .colab-df-convert:hover {\n",
              "      background-color: #E2EBFA;\n",
              "      box-shadow: 0px 1px 2px rgba(60, 64, 67, 0.3), 0px 1px 3px 1px rgba(60, 64, 67, 0.15);\n",
              "      fill: #174EA6;\n",
              "    }\n",
              "\n",
              "    [theme=dark] .colab-df-convert {\n",
              "      background-color: #3B4455;\n",
              "      fill: #D2E3FC;\n",
              "    }\n",
              "\n",
              "    [theme=dark] .colab-df-convert:hover {\n",
              "      background-color: #434B5C;\n",
              "      box-shadow: 0px 1px 3px 1px rgba(0, 0, 0, 0.15);\n",
              "      filter: drop-shadow(0px 1px 2px rgba(0, 0, 0, 0.3));\n",
              "      fill: #FFFFFF;\n",
              "    }\n",
              "  </style>\n",
              "\n",
              "      <script>\n",
              "        const buttonEl =\n",
              "          document.querySelector('#df-db88b88d-6947-4d37-ac5d-9c10cb098cae button.colab-df-convert');\n",
              "        buttonEl.style.display =\n",
              "          google.colab.kernel.accessAllowed ? 'block' : 'none';\n",
              "\n",
              "        async function convertToInteractive(key) {\n",
              "          const element = document.querySelector('#df-db88b88d-6947-4d37-ac5d-9c10cb098cae');\n",
              "          const dataTable =\n",
              "            await google.colab.kernel.invokeFunction('convertToInteractive',\n",
              "                                                     [key], {});\n",
              "          if (!dataTable) return;\n",
              "\n",
              "          const docLinkHtml = 'Like what you see? Visit the ' +\n",
              "            '<a target=\"_blank\" href=https://colab.research.google.com/notebooks/data_table.ipynb>data table notebook</a>'\n",
              "            + ' to learn more about interactive tables.';\n",
              "          element.innerHTML = '';\n",
              "          dataTable['output_type'] = 'display_data';\n",
              "          await google.colab.output.renderOutput(dataTable, element);\n",
              "          const docLink = document.createElement('div');\n",
              "          docLink.innerHTML = docLinkHtml;\n",
              "          element.appendChild(docLink);\n",
              "        }\n",
              "      </script>\n",
              "    </div>\n",
              "  </div>\n",
              "  "
            ]
          },
          "metadata": {},
          "execution_count": 159
        }
      ]
    },
    {
      "cell_type": "code",
      "source": [
        "df_stores.head(2)"
      ],
      "metadata": {
        "colab": {
          "base_uri": "https://localhost:8080/",
          "height": 112
        },
        "id": "NJaFnnLkOzfY",
        "outputId": "b2b98c55-8fa3-4d77-c8b7-ad0460466550"
      },
      "execution_count": null,
      "outputs": [
        {
          "output_type": "execute_result",
          "data": {
            "text/plain": [
              "   Store Type    Size\n",
              "0      1    A  151315\n",
              "1      2    A  202307"
            ],
            "text/html": [
              "\n",
              "  <div id=\"df-e9c3c980-0b84-4fdf-87a5-285d30d9c9b8\">\n",
              "    <div class=\"colab-df-container\">\n",
              "      <div>\n",
              "<style scoped>\n",
              "    .dataframe tbody tr th:only-of-type {\n",
              "        vertical-align: middle;\n",
              "    }\n",
              "\n",
              "    .dataframe tbody tr th {\n",
              "        vertical-align: top;\n",
              "    }\n",
              "\n",
              "    .dataframe thead th {\n",
              "        text-align: right;\n",
              "    }\n",
              "</style>\n",
              "<table border=\"1\" class=\"dataframe\">\n",
              "  <thead>\n",
              "    <tr style=\"text-align: right;\">\n",
              "      <th></th>\n",
              "      <th>Store</th>\n",
              "      <th>Type</th>\n",
              "      <th>Size</th>\n",
              "    </tr>\n",
              "  </thead>\n",
              "  <tbody>\n",
              "    <tr>\n",
              "      <th>0</th>\n",
              "      <td>1</td>\n",
              "      <td>A</td>\n",
              "      <td>151315</td>\n",
              "    </tr>\n",
              "    <tr>\n",
              "      <th>1</th>\n",
              "      <td>2</td>\n",
              "      <td>A</td>\n",
              "      <td>202307</td>\n",
              "    </tr>\n",
              "  </tbody>\n",
              "</table>\n",
              "</div>\n",
              "      <button class=\"colab-df-convert\" onclick=\"convertToInteractive('df-e9c3c980-0b84-4fdf-87a5-285d30d9c9b8')\"\n",
              "              title=\"Convert this dataframe to an interactive table.\"\n",
              "              style=\"display:none;\">\n",
              "        \n",
              "  <svg xmlns=\"http://www.w3.org/2000/svg\" height=\"24px\"viewBox=\"0 0 24 24\"\n",
              "       width=\"24px\">\n",
              "    <path d=\"M0 0h24v24H0V0z\" fill=\"none\"/>\n",
              "    <path d=\"M18.56 5.44l.94 2.06.94-2.06 2.06-.94-2.06-.94-.94-2.06-.94 2.06-2.06.94zm-11 1L8.5 8.5l.94-2.06 2.06-.94-2.06-.94L8.5 2.5l-.94 2.06-2.06.94zm10 10l.94 2.06.94-2.06 2.06-.94-2.06-.94-.94-2.06-.94 2.06-2.06.94z\"/><path d=\"M17.41 7.96l-1.37-1.37c-.4-.4-.92-.59-1.43-.59-.52 0-1.04.2-1.43.59L10.3 9.45l-7.72 7.72c-.78.78-.78 2.05 0 2.83L4 21.41c.39.39.9.59 1.41.59.51 0 1.02-.2 1.41-.59l7.78-7.78 2.81-2.81c.8-.78.8-2.07 0-2.86zM5.41 20L4 18.59l7.72-7.72 1.47 1.35L5.41 20z\"/>\n",
              "  </svg>\n",
              "      </button>\n",
              "      \n",
              "  <style>\n",
              "    .colab-df-container {\n",
              "      display:flex;\n",
              "      flex-wrap:wrap;\n",
              "      gap: 12px;\n",
              "    }\n",
              "\n",
              "    .colab-df-convert {\n",
              "      background-color: #E8F0FE;\n",
              "      border: none;\n",
              "      border-radius: 50%;\n",
              "      cursor: pointer;\n",
              "      display: none;\n",
              "      fill: #1967D2;\n",
              "      height: 32px;\n",
              "      padding: 0 0 0 0;\n",
              "      width: 32px;\n",
              "    }\n",
              "\n",
              "    .colab-df-convert:hover {\n",
              "      background-color: #E2EBFA;\n",
              "      box-shadow: 0px 1px 2px rgba(60, 64, 67, 0.3), 0px 1px 3px 1px rgba(60, 64, 67, 0.15);\n",
              "      fill: #174EA6;\n",
              "    }\n",
              "\n",
              "    [theme=dark] .colab-df-convert {\n",
              "      background-color: #3B4455;\n",
              "      fill: #D2E3FC;\n",
              "    }\n",
              "\n",
              "    [theme=dark] .colab-df-convert:hover {\n",
              "      background-color: #434B5C;\n",
              "      box-shadow: 0px 1px 3px 1px rgba(0, 0, 0, 0.15);\n",
              "      filter: drop-shadow(0px 1px 2px rgba(0, 0, 0, 0.3));\n",
              "      fill: #FFFFFF;\n",
              "    }\n",
              "  </style>\n",
              "\n",
              "      <script>\n",
              "        const buttonEl =\n",
              "          document.querySelector('#df-e9c3c980-0b84-4fdf-87a5-285d30d9c9b8 button.colab-df-convert');\n",
              "        buttonEl.style.display =\n",
              "          google.colab.kernel.accessAllowed ? 'block' : 'none';\n",
              "\n",
              "        async function convertToInteractive(key) {\n",
              "          const element = document.querySelector('#df-e9c3c980-0b84-4fdf-87a5-285d30d9c9b8');\n",
              "          const dataTable =\n",
              "            await google.colab.kernel.invokeFunction('convertToInteractive',\n",
              "                                                     [key], {});\n",
              "          if (!dataTable) return;\n",
              "\n",
              "          const docLinkHtml = 'Like what you see? Visit the ' +\n",
              "            '<a target=\"_blank\" href=https://colab.research.google.com/notebooks/data_table.ipynb>data table notebook</a>'\n",
              "            + ' to learn more about interactive tables.';\n",
              "          element.innerHTML = '';\n",
              "          dataTable['output_type'] = 'display_data';\n",
              "          await google.colab.output.renderOutput(dataTable, element);\n",
              "          const docLink = document.createElement('div');\n",
              "          docLink.innerHTML = docLinkHtml;\n",
              "          element.appendChild(docLink);\n",
              "        }\n",
              "      </script>\n",
              "    </div>\n",
              "  </div>\n",
              "  "
            ]
          },
          "metadata": {},
          "execution_count": 38
        }
      ]
    },
    {
      "cell_type": "code",
      "source": [
        "df_sales.head(2)"
      ],
      "metadata": {
        "colab": {
          "base_uri": "https://localhost:8080/",
          "height": 112
        },
        "id": "SvjsE8HwO2ox",
        "outputId": "de4a6797-549e-4631-bc9a-3070333b1b8a"
      },
      "execution_count": null,
      "outputs": [
        {
          "output_type": "execute_result",
          "data": {
            "text/plain": [
              "   Store  Dept        Date  Weekly_Sales  IsHoliday\n",
              "0      1     1  2010-02-05      24924.50      False\n",
              "1      1     1  2010-02-12      46039.49       True"
            ],
            "text/html": [
              "\n",
              "  <div id=\"df-dd9fd266-9061-408a-b1a0-85b7eaf121d1\">\n",
              "    <div class=\"colab-df-container\">\n",
              "      <div>\n",
              "<style scoped>\n",
              "    .dataframe tbody tr th:only-of-type {\n",
              "        vertical-align: middle;\n",
              "    }\n",
              "\n",
              "    .dataframe tbody tr th {\n",
              "        vertical-align: top;\n",
              "    }\n",
              "\n",
              "    .dataframe thead th {\n",
              "        text-align: right;\n",
              "    }\n",
              "</style>\n",
              "<table border=\"1\" class=\"dataframe\">\n",
              "  <thead>\n",
              "    <tr style=\"text-align: right;\">\n",
              "      <th></th>\n",
              "      <th>Store</th>\n",
              "      <th>Dept</th>\n",
              "      <th>Date</th>\n",
              "      <th>Weekly_Sales</th>\n",
              "      <th>IsHoliday</th>\n",
              "    </tr>\n",
              "  </thead>\n",
              "  <tbody>\n",
              "    <tr>\n",
              "      <th>0</th>\n",
              "      <td>1</td>\n",
              "      <td>1</td>\n",
              "      <td>2010-02-05</td>\n",
              "      <td>24924.50</td>\n",
              "      <td>False</td>\n",
              "    </tr>\n",
              "    <tr>\n",
              "      <th>1</th>\n",
              "      <td>1</td>\n",
              "      <td>1</td>\n",
              "      <td>2010-02-12</td>\n",
              "      <td>46039.49</td>\n",
              "      <td>True</td>\n",
              "    </tr>\n",
              "  </tbody>\n",
              "</table>\n",
              "</div>\n",
              "      <button class=\"colab-df-convert\" onclick=\"convertToInteractive('df-dd9fd266-9061-408a-b1a0-85b7eaf121d1')\"\n",
              "              title=\"Convert this dataframe to an interactive table.\"\n",
              "              style=\"display:none;\">\n",
              "        \n",
              "  <svg xmlns=\"http://www.w3.org/2000/svg\" height=\"24px\"viewBox=\"0 0 24 24\"\n",
              "       width=\"24px\">\n",
              "    <path d=\"M0 0h24v24H0V0z\" fill=\"none\"/>\n",
              "    <path d=\"M18.56 5.44l.94 2.06.94-2.06 2.06-.94-2.06-.94-.94-2.06-.94 2.06-2.06.94zm-11 1L8.5 8.5l.94-2.06 2.06-.94-2.06-.94L8.5 2.5l-.94 2.06-2.06.94zm10 10l.94 2.06.94-2.06 2.06-.94-2.06-.94-.94-2.06-.94 2.06-2.06.94z\"/><path d=\"M17.41 7.96l-1.37-1.37c-.4-.4-.92-.59-1.43-.59-.52 0-1.04.2-1.43.59L10.3 9.45l-7.72 7.72c-.78.78-.78 2.05 0 2.83L4 21.41c.39.39.9.59 1.41.59.51 0 1.02-.2 1.41-.59l7.78-7.78 2.81-2.81c.8-.78.8-2.07 0-2.86zM5.41 20L4 18.59l7.72-7.72 1.47 1.35L5.41 20z\"/>\n",
              "  </svg>\n",
              "      </button>\n",
              "      \n",
              "  <style>\n",
              "    .colab-df-container {\n",
              "      display:flex;\n",
              "      flex-wrap:wrap;\n",
              "      gap: 12px;\n",
              "    }\n",
              "\n",
              "    .colab-df-convert {\n",
              "      background-color: #E8F0FE;\n",
              "      border: none;\n",
              "      border-radius: 50%;\n",
              "      cursor: pointer;\n",
              "      display: none;\n",
              "      fill: #1967D2;\n",
              "      height: 32px;\n",
              "      padding: 0 0 0 0;\n",
              "      width: 32px;\n",
              "    }\n",
              "\n",
              "    .colab-df-convert:hover {\n",
              "      background-color: #E2EBFA;\n",
              "      box-shadow: 0px 1px 2px rgba(60, 64, 67, 0.3), 0px 1px 3px 1px rgba(60, 64, 67, 0.15);\n",
              "      fill: #174EA6;\n",
              "    }\n",
              "\n",
              "    [theme=dark] .colab-df-convert {\n",
              "      background-color: #3B4455;\n",
              "      fill: #D2E3FC;\n",
              "    }\n",
              "\n",
              "    [theme=dark] .colab-df-convert:hover {\n",
              "      background-color: #434B5C;\n",
              "      box-shadow: 0px 1px 3px 1px rgba(0, 0, 0, 0.15);\n",
              "      filter: drop-shadow(0px 1px 2px rgba(0, 0, 0, 0.3));\n",
              "      fill: #FFFFFF;\n",
              "    }\n",
              "  </style>\n",
              "\n",
              "      <script>\n",
              "        const buttonEl =\n",
              "          document.querySelector('#df-dd9fd266-9061-408a-b1a0-85b7eaf121d1 button.colab-df-convert');\n",
              "        buttonEl.style.display =\n",
              "          google.colab.kernel.accessAllowed ? 'block' : 'none';\n",
              "\n",
              "        async function convertToInteractive(key) {\n",
              "          const element = document.querySelector('#df-dd9fd266-9061-408a-b1a0-85b7eaf121d1');\n",
              "          const dataTable =\n",
              "            await google.colab.kernel.invokeFunction('convertToInteractive',\n",
              "                                                     [key], {});\n",
              "          if (!dataTable) return;\n",
              "\n",
              "          const docLinkHtml = 'Like what you see? Visit the ' +\n",
              "            '<a target=\"_blank\" href=https://colab.research.google.com/notebooks/data_table.ipynb>data table notebook</a>'\n",
              "            + ' to learn more about interactive tables.';\n",
              "          element.innerHTML = '';\n",
              "          dataTable['output_type'] = 'display_data';\n",
              "          await google.colab.output.renderOutput(dataTable, element);\n",
              "          const docLink = document.createElement('div');\n",
              "          docLink.innerHTML = docLinkHtml;\n",
              "          element.appendChild(docLink);\n",
              "        }\n",
              "      </script>\n",
              "    </div>\n",
              "  </div>\n",
              "  "
            ]
          },
          "metadata": {},
          "execution_count": 162
        }
      ]
    },
    {
      "cell_type": "markdown",
      "source": [
        "## 1.2 Juntar os bancos de dados"
      ],
      "metadata": {
        "id": "Sk2QPxP0JQlE"
      }
    },
    {
      "cell_type": "code",
      "source": [
        "#Junção entre df e df_stores pelo id_client\n",
        "df = pd.merge(df_features, df_stores, right_on='Store', left_on='Store', how='left', suffixes=('', '_DROP')).filter(regex='^(?!.*_DROP)')"
      ],
      "metadata": {
        "id": "E8BMPIPtI9vP"
      },
      "execution_count": 4,
      "outputs": []
    },
    {
      "cell_type": "code",
      "source": [
        "#Junção entre df_compras, df_clientes e df_lojas pelo id_loc\n",
        "df = pd.merge(df, df_sales, right_on=['Store','Date'], left_on=['Store','Date'], how='right', suffixes=('', '_DROP')).filter(regex='^(?!.*_DROP)')"
      ],
      "metadata": {
        "id": "uMXKaIRKPInx"
      },
      "execution_count": 5,
      "outputs": []
    },
    {
      "cell_type": "code",
      "source": [
        "#Nulos no banco de dados antes \n",
        "df.isnull().sum()/df.shape[0]"
      ],
      "metadata": {
        "colab": {
          "base_uri": "https://localhost:8080/"
        },
        "id": "vfhEBX1Ld6ql",
        "outputId": "0874bc58-3f57-47e1-c804-3505fdbf7776"
      },
      "execution_count": null,
      "outputs": [
        {
          "output_type": "execute_result",
          "data": {
            "text/plain": [
              "Store           0.000000\n",
              "Date            0.000000\n",
              "Temperature     0.000000\n",
              "Fuel_Price      0.000000\n",
              "MarkDown1       0.642572\n",
              "MarkDown2       0.736110\n",
              "MarkDown3       0.674808\n",
              "MarkDown4       0.679847\n",
              "MarkDown5       0.640790\n",
              "CPI             0.000000\n",
              "Unemployment    0.000000\n",
              "IsHoliday       0.000000\n",
              "Type            0.000000\n",
              "Size            0.000000\n",
              "Dept            0.000000\n",
              "Weekly_Sales    0.000000\n",
              "dtype: float64"
            ]
          },
          "metadata": {},
          "execution_count": 170
        }
      ]
    },
    {
      "cell_type": "markdown",
      "source": [
        "## 1.2 Tratamento de nulos"
      ],
      "metadata": {
        "id": "8gA99WSkgZCG"
      }
    },
    {
      "cell_type": "markdown",
      "source": [
        "Após a junção dos dados, tivemos nulos em diversas váriaveis. Conforme o entendimento de negócio, os atributos 'MarkDowns' são as quantidades percentuais de promoções, portanto os NA's são zero, ou seja, lojas que não tiveram promoções."
      ],
      "metadata": {
        "id": "AD5uJap-bm1k"
      }
    },
    {
      "cell_type": "code",
      "source": [
        "#Preencher nulos com valores médios na variável CPI\n",
        "df = df.fillna(0)"
      ],
      "metadata": {
        "id": "cVzxeHAcdfVC"
      },
      "execution_count": 6,
      "outputs": []
    },
    {
      "cell_type": "code",
      "source": [
        "#Nulos no banco de dados após tratamento\n",
        "df.isnull().sum()/df.shape[0]"
      ],
      "metadata": {
        "colab": {
          "base_uri": "https://localhost:8080/"
        },
        "id": "xUtUQB88e7Ci",
        "outputId": "227f4e97-2fc7-48a2-c677-2674b06ae879"
      },
      "execution_count": null,
      "outputs": [
        {
          "output_type": "execute_result",
          "data": {
            "text/plain": [
              "Store           0.0\n",
              "Date            0.0\n",
              "Temperature     0.0\n",
              "Fuel_Price      0.0\n",
              "MarkDown1       0.0\n",
              "MarkDown2       0.0\n",
              "MarkDown3       0.0\n",
              "MarkDown4       0.0\n",
              "MarkDown5       0.0\n",
              "CPI             0.0\n",
              "Unemployment    0.0\n",
              "IsHoliday       0.0\n",
              "Type            0.0\n",
              "Size            0.0\n",
              "Dept            0.0\n",
              "Weekly_Sales    0.0\n",
              "dtype: float64"
            ]
          },
          "metadata": {},
          "execution_count": 172
        }
      ]
    },
    {
      "cell_type": "markdown",
      "source": [
        "## 1.3 Formatação das variáveis"
      ],
      "metadata": {
        "id": "A1D-kySBiRhM"
      }
    },
    {
      "cell_type": "code",
      "source": [
        "#Categóricas\n",
        "df.loc[:, ['IsHoliday', 'Type', 'Dept', 'Store']] = df.loc[:, ['IsHoliday', 'Type', 'Dept', 'Store']].astype('category')"
      ],
      "metadata": {
        "id": "f277EBKljp4K"
      },
      "execution_count": 7,
      "outputs": []
    },
    {
      "cell_type": "code",
      "source": [
        "#Numéricas\n",
        "df['Size'] = df['Size'].astype('float64')"
      ],
      "metadata": {
        "id": "mQIpwLB0oCEU"
      },
      "execution_count": 8,
      "outputs": []
    },
    {
      "cell_type": "code",
      "source": [
        "#Data\n",
        "df['Date'] = pd.to_datetime(df['Date'], format = '%Y-%m-%d')"
      ],
      "metadata": {
        "id": "ZWRekVod3gen"
      },
      "execution_count": 9,
      "outputs": []
    },
    {
      "cell_type": "code",
      "source": [
        "df.dtypes"
      ],
      "metadata": {
        "colab": {
          "base_uri": "https://localhost:8080/"
        },
        "id": "EslCml96jvfj",
        "outputId": "5da9aeba-6c98-483a-9237-94eb2f107951"
      },
      "execution_count": null,
      "outputs": [
        {
          "output_type": "execute_result",
          "data": {
            "text/plain": [
              "Store                 category\n",
              "Date            datetime64[ns]\n",
              "Temperature            float64\n",
              "Fuel_Price             float64\n",
              "MarkDown1              float64\n",
              "MarkDown2              float64\n",
              "MarkDown3              float64\n",
              "MarkDown4              float64\n",
              "MarkDown5              float64\n",
              "CPI                    float64\n",
              "Unemployment           float64\n",
              "IsHoliday             category\n",
              "Type                  category\n",
              "Size                   float64\n",
              "Dept                  category\n",
              "Weekly_Sales           float64\n",
              "dtype: object"
            ]
          },
          "metadata": {},
          "execution_count": 179
        }
      ]
    },
    {
      "cell_type": "markdown",
      "source": [
        "## 1.4 Remoção de Outliers"
      ],
      "metadata": {
        "id": "YARHP6zxYIli"
      }
    },
    {
      "cell_type": "code",
      "source": [
        "df.describe()"
      ],
      "metadata": {
        "colab": {
          "base_uri": "https://localhost:8080/",
          "height": 300
        },
        "id": "0VjV6WrTagE9",
        "outputId": "eb4ce8cc-fb1f-491d-da58-b268f013ac3e"
      },
      "execution_count": 18,
      "outputs": [
        {
          "output_type": "execute_result",
          "data": {
            "text/plain": [
              "         Temperature     Fuel_Price      MarkDown1      MarkDown2  \\\n",
              "count  421570.000000  421570.000000  421570.000000  421570.000000   \n",
              "mean       60.090059       3.361027    2590.074819     879.974298   \n",
              "std        18.447931       0.458515    6052.385934    5084.538801   \n",
              "min        -2.060000       2.472000       0.000000    -265.760000   \n",
              "25%        46.680000       2.933000       0.000000       0.000000   \n",
              "50%        62.090000       3.452000       0.000000       0.000000   \n",
              "75%        74.280000       3.738000    2809.050000       2.200000   \n",
              "max       100.140000       4.468000   88646.760000  104519.540000   \n",
              "\n",
              "           MarkDown3      MarkDown4      MarkDown5            CPI  \\\n",
              "count  421570.000000  421570.000000  421570.000000  421570.000000   \n",
              "mean      468.087665    1083.132268    1662.772385     171.201947   \n",
              "std      5528.873453    3894.529945    4207.629321      39.159276   \n",
              "min       -29.100000       0.000000       0.000000     126.064000   \n",
              "25%         0.000000       0.000000       0.000000     132.022667   \n",
              "50%         0.000000       0.000000       0.000000     182.318780   \n",
              "75%         4.540000     425.290000    2168.040000     212.416993   \n",
              "max    141630.610000   67474.850000  108519.280000     227.232807   \n",
              "\n",
              "        Unemployment           Size   Weekly_Sales  \n",
              "count  421570.000000  421570.000000  421570.000000  \n",
              "mean        7.960289  136727.915739   15981.258123  \n",
              "std         1.863296   60980.583328   22711.183519  \n",
              "min         3.879000   34875.000000   -4988.940000  \n",
              "25%         6.891000   93638.000000    2079.650000  \n",
              "50%         7.866000  140167.000000    7612.030000  \n",
              "75%         8.572000  202505.000000   20205.852500  \n",
              "max        14.313000  219622.000000  693099.360000  "
            ],
            "text/html": [
              "\n",
              "  <div id=\"df-657008af-d5f6-4e5b-9a5b-b838ae777e36\">\n",
              "    <div class=\"colab-df-container\">\n",
              "      <div>\n",
              "<style scoped>\n",
              "    .dataframe tbody tr th:only-of-type {\n",
              "        vertical-align: middle;\n",
              "    }\n",
              "\n",
              "    .dataframe tbody tr th {\n",
              "        vertical-align: top;\n",
              "    }\n",
              "\n",
              "    .dataframe thead th {\n",
              "        text-align: right;\n",
              "    }\n",
              "</style>\n",
              "<table border=\"1\" class=\"dataframe\">\n",
              "  <thead>\n",
              "    <tr style=\"text-align: right;\">\n",
              "      <th></th>\n",
              "      <th>Temperature</th>\n",
              "      <th>Fuel_Price</th>\n",
              "      <th>MarkDown1</th>\n",
              "      <th>MarkDown2</th>\n",
              "      <th>MarkDown3</th>\n",
              "      <th>MarkDown4</th>\n",
              "      <th>MarkDown5</th>\n",
              "      <th>CPI</th>\n",
              "      <th>Unemployment</th>\n",
              "      <th>Size</th>\n",
              "      <th>Weekly_Sales</th>\n",
              "    </tr>\n",
              "  </thead>\n",
              "  <tbody>\n",
              "    <tr>\n",
              "      <th>count</th>\n",
              "      <td>421570.000000</td>\n",
              "      <td>421570.000000</td>\n",
              "      <td>421570.000000</td>\n",
              "      <td>421570.000000</td>\n",
              "      <td>421570.000000</td>\n",
              "      <td>421570.000000</td>\n",
              "      <td>421570.000000</td>\n",
              "      <td>421570.000000</td>\n",
              "      <td>421570.000000</td>\n",
              "      <td>421570.000000</td>\n",
              "      <td>421570.000000</td>\n",
              "    </tr>\n",
              "    <tr>\n",
              "      <th>mean</th>\n",
              "      <td>60.090059</td>\n",
              "      <td>3.361027</td>\n",
              "      <td>2590.074819</td>\n",
              "      <td>879.974298</td>\n",
              "      <td>468.087665</td>\n",
              "      <td>1083.132268</td>\n",
              "      <td>1662.772385</td>\n",
              "      <td>171.201947</td>\n",
              "      <td>7.960289</td>\n",
              "      <td>136727.915739</td>\n",
              "      <td>15981.258123</td>\n",
              "    </tr>\n",
              "    <tr>\n",
              "      <th>std</th>\n",
              "      <td>18.447931</td>\n",
              "      <td>0.458515</td>\n",
              "      <td>6052.385934</td>\n",
              "      <td>5084.538801</td>\n",
              "      <td>5528.873453</td>\n",
              "      <td>3894.529945</td>\n",
              "      <td>4207.629321</td>\n",
              "      <td>39.159276</td>\n",
              "      <td>1.863296</td>\n",
              "      <td>60980.583328</td>\n",
              "      <td>22711.183519</td>\n",
              "    </tr>\n",
              "    <tr>\n",
              "      <th>min</th>\n",
              "      <td>-2.060000</td>\n",
              "      <td>2.472000</td>\n",
              "      <td>0.000000</td>\n",
              "      <td>-265.760000</td>\n",
              "      <td>-29.100000</td>\n",
              "      <td>0.000000</td>\n",
              "      <td>0.000000</td>\n",
              "      <td>126.064000</td>\n",
              "      <td>3.879000</td>\n",
              "      <td>34875.000000</td>\n",
              "      <td>-4988.940000</td>\n",
              "    </tr>\n",
              "    <tr>\n",
              "      <th>25%</th>\n",
              "      <td>46.680000</td>\n",
              "      <td>2.933000</td>\n",
              "      <td>0.000000</td>\n",
              "      <td>0.000000</td>\n",
              "      <td>0.000000</td>\n",
              "      <td>0.000000</td>\n",
              "      <td>0.000000</td>\n",
              "      <td>132.022667</td>\n",
              "      <td>6.891000</td>\n",
              "      <td>93638.000000</td>\n",
              "      <td>2079.650000</td>\n",
              "    </tr>\n",
              "    <tr>\n",
              "      <th>50%</th>\n",
              "      <td>62.090000</td>\n",
              "      <td>3.452000</td>\n",
              "      <td>0.000000</td>\n",
              "      <td>0.000000</td>\n",
              "      <td>0.000000</td>\n",
              "      <td>0.000000</td>\n",
              "      <td>0.000000</td>\n",
              "      <td>182.318780</td>\n",
              "      <td>7.866000</td>\n",
              "      <td>140167.000000</td>\n",
              "      <td>7612.030000</td>\n",
              "    </tr>\n",
              "    <tr>\n",
              "      <th>75%</th>\n",
              "      <td>74.280000</td>\n",
              "      <td>3.738000</td>\n",
              "      <td>2809.050000</td>\n",
              "      <td>2.200000</td>\n",
              "      <td>4.540000</td>\n",
              "      <td>425.290000</td>\n",
              "      <td>2168.040000</td>\n",
              "      <td>212.416993</td>\n",
              "      <td>8.572000</td>\n",
              "      <td>202505.000000</td>\n",
              "      <td>20205.852500</td>\n",
              "    </tr>\n",
              "    <tr>\n",
              "      <th>max</th>\n",
              "      <td>100.140000</td>\n",
              "      <td>4.468000</td>\n",
              "      <td>88646.760000</td>\n",
              "      <td>104519.540000</td>\n",
              "      <td>141630.610000</td>\n",
              "      <td>67474.850000</td>\n",
              "      <td>108519.280000</td>\n",
              "      <td>227.232807</td>\n",
              "      <td>14.313000</td>\n",
              "      <td>219622.000000</td>\n",
              "      <td>693099.360000</td>\n",
              "    </tr>\n",
              "  </tbody>\n",
              "</table>\n",
              "</div>\n",
              "      <button class=\"colab-df-convert\" onclick=\"convertToInteractive('df-657008af-d5f6-4e5b-9a5b-b838ae777e36')\"\n",
              "              title=\"Convert this dataframe to an interactive table.\"\n",
              "              style=\"display:none;\">\n",
              "        \n",
              "  <svg xmlns=\"http://www.w3.org/2000/svg\" height=\"24px\"viewBox=\"0 0 24 24\"\n",
              "       width=\"24px\">\n",
              "    <path d=\"M0 0h24v24H0V0z\" fill=\"none\"/>\n",
              "    <path d=\"M18.56 5.44l.94 2.06.94-2.06 2.06-.94-2.06-.94-.94-2.06-.94 2.06-2.06.94zm-11 1L8.5 8.5l.94-2.06 2.06-.94-2.06-.94L8.5 2.5l-.94 2.06-2.06.94zm10 10l.94 2.06.94-2.06 2.06-.94-2.06-.94-.94-2.06-.94 2.06-2.06.94z\"/><path d=\"M17.41 7.96l-1.37-1.37c-.4-.4-.92-.59-1.43-.59-.52 0-1.04.2-1.43.59L10.3 9.45l-7.72 7.72c-.78.78-.78 2.05 0 2.83L4 21.41c.39.39.9.59 1.41.59.51 0 1.02-.2 1.41-.59l7.78-7.78 2.81-2.81c.8-.78.8-2.07 0-2.86zM5.41 20L4 18.59l7.72-7.72 1.47 1.35L5.41 20z\"/>\n",
              "  </svg>\n",
              "      </button>\n",
              "      \n",
              "  <style>\n",
              "    .colab-df-container {\n",
              "      display:flex;\n",
              "      flex-wrap:wrap;\n",
              "      gap: 12px;\n",
              "    }\n",
              "\n",
              "    .colab-df-convert {\n",
              "      background-color: #E8F0FE;\n",
              "      border: none;\n",
              "      border-radius: 50%;\n",
              "      cursor: pointer;\n",
              "      display: none;\n",
              "      fill: #1967D2;\n",
              "      height: 32px;\n",
              "      padding: 0 0 0 0;\n",
              "      width: 32px;\n",
              "    }\n",
              "\n",
              "    .colab-df-convert:hover {\n",
              "      background-color: #E2EBFA;\n",
              "      box-shadow: 0px 1px 2px rgba(60, 64, 67, 0.3), 0px 1px 3px 1px rgba(60, 64, 67, 0.15);\n",
              "      fill: #174EA6;\n",
              "    }\n",
              "\n",
              "    [theme=dark] .colab-df-convert {\n",
              "      background-color: #3B4455;\n",
              "      fill: #D2E3FC;\n",
              "    }\n",
              "\n",
              "    [theme=dark] .colab-df-convert:hover {\n",
              "      background-color: #434B5C;\n",
              "      box-shadow: 0px 1px 3px 1px rgba(0, 0, 0, 0.15);\n",
              "      filter: drop-shadow(0px 1px 2px rgba(0, 0, 0, 0.3));\n",
              "      fill: #FFFFFF;\n",
              "    }\n",
              "  </style>\n",
              "\n",
              "      <script>\n",
              "        const buttonEl =\n",
              "          document.querySelector('#df-657008af-d5f6-4e5b-9a5b-b838ae777e36 button.colab-df-convert');\n",
              "        buttonEl.style.display =\n",
              "          google.colab.kernel.accessAllowed ? 'block' : 'none';\n",
              "\n",
              "        async function convertToInteractive(key) {\n",
              "          const element = document.querySelector('#df-657008af-d5f6-4e5b-9a5b-b838ae777e36');\n",
              "          const dataTable =\n",
              "            await google.colab.kernel.invokeFunction('convertToInteractive',\n",
              "                                                     [key], {});\n",
              "          if (!dataTable) return;\n",
              "\n",
              "          const docLinkHtml = 'Like what you see? Visit the ' +\n",
              "            '<a target=\"_blank\" href=https://colab.research.google.com/notebooks/data_table.ipynb>data table notebook</a>'\n",
              "            + ' to learn more about interactive tables.';\n",
              "          element.innerHTML = '';\n",
              "          dataTable['output_type'] = 'display_data';\n",
              "          await google.colab.output.renderOutput(dataTable, element);\n",
              "          const docLink = document.createElement('div');\n",
              "          docLink.innerHTML = docLinkHtml;\n",
              "          element.appendChild(docLink);\n",
              "        }\n",
              "      </script>\n",
              "    </div>\n",
              "  </div>\n",
              "  "
            ]
          },
          "metadata": {},
          "execution_count": 18
        }
      ]
    },
    {
      "cell_type": "markdown",
      "source": [
        "Claramente, em algumas váriaveis existe a presença de outliers!"
      ],
      "metadata": {
        "id": "CsKmD5PVe1_u"
      }
    },
    {
      "cell_type": "code",
      "source": [
        "#Checando a presença de outliers\n",
        "draw_boxplots(df, df.select_dtypes(\"number\").columns)"
      ],
      "metadata": {
        "colab": {
          "base_uri": "https://localhost:8080/",
          "height": 1000
        },
        "id": "3kPymwotd9hA",
        "outputId": "2861f1b7-d8d8-4246-f0c4-34e271c5230c"
      },
      "execution_count": 30,
      "outputs": [
        {
          "output_type": "display_data",
          "data": {
            "text/plain": [
              "<Figure size 1440x2160 with 12 Axes>"
            ],
            "image/png": "[encoded data removed]"
          },
          "metadata": {
            "needs_background": "light"
          }
        }
      ]
    },
    {
      "cell_type": "code",
      "source": [
        "#Substituindo os outliers pela definição de boxplots\n",
        "replace_outliers(df, df.select_dtypes(\"number\").columns)"
      ],
      "metadata": {
        "id": "nmBKBkKeeOWd"
      },
      "execution_count": 35,
      "outputs": []
    },
    {
      "cell_type": "code",
      "source": [
        "#Checando novamente a presença de outliers após remoção\n",
        "draw_boxplots(df, df.select_dtypes(\"number\").columns)"
      ],
      "metadata": {
        "colab": {
          "base_uri": "https://localhost:8080/",
          "height": 1000
        },
        "id": "KXkJwfS9hPr6",
        "outputId": "711bf7eb-d3a2-45d2-b586-79d63405f382"
      },
      "execution_count": 39,
      "outputs": [
        {
          "output_type": "display_data",
          "data": {
            "text/plain": [
              "<Figure size 1440x2160 with 12 Axes>"
            ],
            "image/png": "[encoded data removed]"
          },
          "metadata": {
            "needs_background": "light"
          }
        }
      ]
    },
    {
      "cell_type": "markdown",
      "source": [
        "## 1.5 Escalando as variáveis numéricas"
      ],
      "metadata": {
        "id": "s_VjnoZymmRS"
      }
    },
    {
      "cell_type": "code",
      "source": [
        "#Definindo o escalador\n",
        "scaler = StandardScaler()\n",
        "\n",
        "#Selecionando nomes das colunas\n",
        "col_num = list(df.select_dtypes('number').columns)\n",
        "col_num.remove('Weekly_Sales')\n",
        "\n",
        "#Fitando o modelo nos dados\n",
        "scaler.fit(df[col_num])\n",
        "\n",
        "#Alterando os valores do dataset original\n",
        "df_num = pd.DataFrame(scaler.transform(df[col_num]),columns=col_num)"
      ],
      "metadata": {
        "id": "G5_ThKhEmtRV"
      },
      "execution_count": 40,
      "outputs": []
    },
    {
      "cell_type": "markdown",
      "source": [
        "## 1.6 One-hot encoding as variáveis categóricas"
      ],
      "metadata": {
        "id": "5rtKvDcEiaWB"
      }
    },
    {
      "cell_type": "code",
      "source": [
        "#Tratando as variáveis categoricas\n",
        "df_cat = pd.get_dummies(data = df[['Type','IsHoliday','Dept']], drop_first = True) "
      ],
      "metadata": {
        "id": "iKslisqtX9qs"
      },
      "execution_count": 41,
      "outputs": []
    },
    {
      "cell_type": "code",
      "source": [
        "df_cat.shape"
      ],
      "metadata": {
        "colab": {
          "base_uri": "https://localhost:8080/"
        },
        "id": "MghYw2VDuwmm",
        "outputId": "41767633-ab91-4f67-911e-e59de679d01c"
      },
      "execution_count": null,
      "outputs": [
        {
          "output_type": "execute_result",
          "data": {
            "text/plain": [
              "(421570, 83)"
            ]
          },
          "metadata": {},
          "execution_count": 147
        }
      ]
    },
    {
      "cell_type": "markdown",
      "source": [
        "## 1.7 Concatenando datasets"
      ],
      "metadata": {
        "id": "umT2TFee02cg"
      }
    },
    {
      "cell_type": "code",
      "source": [
        "df_clean = pd.concat([df['Weekly_Sales'], df_num, df_cat], axis = 1)"
      ],
      "metadata": {
        "id": "Nt5sMgRI00n7"
      },
      "execution_count": 42,
      "outputs": []
    },
    {
      "cell_type": "markdown",
      "source": [
        "## 1.8 Validação do Pré-tratamento"
      ],
      "metadata": {
        "id": "w6NQvwRC1HeS"
      }
    },
    {
      "cell_type": "code",
      "source": [
        "#Atributos e nomes dos atributos\n",
        "df_clean.head(1)"
      ],
      "metadata": {
        "colab": {
          "base_uri": "https://localhost:8080/",
          "height": 110
        },
        "id": "Cmr_e4Kf1Pn1",
        "outputId": "db6bf510-a132-432b-a713-38a57120be9d"
      },
      "execution_count": 43,
      "outputs": [
        {
          "output_type": "execute_result",
          "data": {
            "text/plain": [
              "   Weekly_Sales  Temperature  Fuel_Price  MarkDown1  MarkDown2  MarkDown3  \\\n",
              "0       24924.5    -0.964062   -1.720834  -0.607854   -0.57483  -0.603841   \n",
              "\n",
              "   MarkDown4  MarkDown5       CPI  Unemployment  ...  Dept_90  Dept_91  \\\n",
              "0  -0.596633  -0.635024  1.018774      0.183066  ...        0        0   \n",
              "\n",
              "   Dept_92  Dept_93  Dept_94  Dept_95  Dept_96  Dept_97  Dept_98  Dept_99  \n",
              "0        0        0        0        0        0        0        0        0  \n",
              "\n",
              "[1 rows x 94 columns]"
            ],
            "text/html": [
              "\n",
              "  <div id=\"df-043859ca-a773-46ad-9a88-bae8049b9c61\">\n",
              "    <div class=\"colab-df-container\">\n",
              "      <div>\n",
              "<style scoped>\n",
              "    .dataframe tbody tr th:only-of-type {\n",
              "        vertical-align: middle;\n",
              "    }\n",
              "\n",
              "    .dataframe tbody tr th {\n",
              "        vertical-align: top;\n",
              "    }\n",
              "\n",
              "    .dataframe thead th {\n",
              "        text-align: right;\n",
              "    }\n",
              "</style>\n",
              "<table border=\"1\" class=\"dataframe\">\n",
              "  <thead>\n",
              "    <tr style=\"text-align: right;\">\n",
              "      <th></th>\n",
              "      <th>Weekly_Sales</th>\n",
              "      <th>Temperature</th>\n",
              "      <th>Fuel_Price</th>\n",
              "      <th>MarkDown1</th>\n",
              "      <th>MarkDown2</th>\n",
              "      <th>MarkDown3</th>\n",
              "      <th>MarkDown4</th>\n",
              "      <th>MarkDown5</th>\n",
              "      <th>CPI</th>\n",
              "      <th>Unemployment</th>\n",
              "      <th>...</th>\n",
              "      <th>Dept_90</th>\n",
              "      <th>Dept_91</th>\n",
              "      <th>Dept_92</th>\n",
              "      <th>Dept_93</th>\n",
              "      <th>Dept_94</th>\n",
              "      <th>Dept_95</th>\n",
              "      <th>Dept_96</th>\n",
              "      <th>Dept_97</th>\n",
              "      <th>Dept_98</th>\n",
              "      <th>Dept_99</th>\n",
              "    </tr>\n",
              "  </thead>\n",
              "  <tbody>\n",
              "    <tr>\n",
              "      <th>0</th>\n",
              "      <td>24924.5</td>\n",
              "      <td>-0.964062</td>\n",
              "      <td>-1.720834</td>\n",
              "      <td>-0.607854</td>\n",
              "      <td>-0.57483</td>\n",
              "      <td>-0.603841</td>\n",
              "      <td>-0.596633</td>\n",
              "      <td>-0.635024</td>\n",
              "      <td>1.018774</td>\n",
              "      <td>0.183066</td>\n",
              "      <td>...</td>\n",
              "      <td>0</td>\n",
              "      <td>0</td>\n",
              "      <td>0</td>\n",
              "      <td>0</td>\n",
              "      <td>0</td>\n",
              "      <td>0</td>\n",
              "      <td>0</td>\n",
              "      <td>0</td>\n",
              "      <td>0</td>\n",
              "      <td>0</td>\n",
              "    </tr>\n",
              "  </tbody>\n",
              "</table>\n",
              "<p>1 rows × 94 columns</p>\n",
              "</div>\n",
              "      <button class=\"colab-df-convert\" onclick=\"convertToInteractive('df-043859ca-a773-46ad-9a88-bae8049b9c61')\"\n",
              "              title=\"Convert this dataframe to an interactive table.\"\n",
              "              style=\"display:none;\">\n",
              "        \n",
              "  <svg xmlns=\"http://www.w3.org/2000/svg\" height=\"24px\"viewBox=\"0 0 24 24\"\n",
              "       width=\"24px\">\n",
              "    <path d=\"M0 0h24v24H0V0z\" fill=\"none\"/>\n",
              "    <path d=\"M18.56 5.44l.94 2.06.94-2.06 2.06-.94-2.06-.94-.94-2.06-.94 2.06-2.06.94zm-11 1L8.5 8.5l.94-2.06 2.06-.94-2.06-.94L8.5 2.5l-.94 2.06-2.06.94zm10 10l.94 2.06.94-2.06 2.06-.94-2.06-.94-.94-2.06-.94 2.06-2.06.94z\"/><path d=\"M17.41 7.96l-1.37-1.37c-.4-.4-.92-.59-1.43-.59-.52 0-1.04.2-1.43.59L10.3 9.45l-7.72 7.72c-.78.78-.78 2.05 0 2.83L4 21.41c.39.39.9.59 1.41.59.51 0 1.02-.2 1.41-.59l7.78-7.78 2.81-2.81c.8-.78.8-2.07 0-2.86zM5.41 20L4 18.59l7.72-7.72 1.47 1.35L5.41 20z\"/>\n",
              "  </svg>\n",
              "      </button>\n",
              "      \n",
              "  <style>\n",
              "    .colab-df-container {\n",
              "      display:flex;\n",
              "      flex-wrap:wrap;\n",
              "      gap: 12px;\n",
              "    }\n",
              "\n",
              "    .colab-df-convert {\n",
              "      background-color: #E8F0FE;\n",
              "      border: none;\n",
              "      border-radius: 50%;\n",
              "      cursor: pointer;\n",
              "      display: none;\n",
              "      fill: #1967D2;\n",
              "      height: 32px;\n",
              "      padding: 0 0 0 0;\n",
              "      width: 32px;\n",
              "    }\n",
              "\n",
              "    .colab-df-convert:hover {\n",
              "      background-color: #E2EBFA;\n",
              "      box-shadow: 0px 1px 2px rgba(60, 64, 67, 0.3), 0px 1px 3px 1px rgba(60, 64, 67, 0.15);\n",
              "      fill: #174EA6;\n",
              "    }\n",
              "\n",
              "    [theme=dark] .colab-df-convert {\n",
              "      background-color: #3B4455;\n",
              "      fill: #D2E3FC;\n",
              "    }\n",
              "\n",
              "    [theme=dark] .colab-df-convert:hover {\n",
              "      background-color: #434B5C;\n",
              "      box-shadow: 0px 1px 3px 1px rgba(0, 0, 0, 0.15);\n",
              "      filter: drop-shadow(0px 1px 2px rgba(0, 0, 0, 0.3));\n",
              "      fill: #FFFFFF;\n",
              "    }\n",
              "  </style>\n",
              "\n",
              "      <script>\n",
              "        const buttonEl =\n",
              "          document.querySelector('#df-043859ca-a773-46ad-9a88-bae8049b9c61 button.colab-df-convert');\n",
              "        buttonEl.style.display =\n",
              "          google.colab.kernel.accessAllowed ? 'block' : 'none';\n",
              "\n",
              "        async function convertToInteractive(key) {\n",
              "          const element = document.querySelector('#df-043859ca-a773-46ad-9a88-bae8049b9c61');\n",
              "          const dataTable =\n",
              "            await google.colab.kernel.invokeFunction('convertToInteractive',\n",
              "                                                     [key], {});\n",
              "          if (!dataTable) return;\n",
              "\n",
              "          const docLinkHtml = 'Like what you see? Visit the ' +\n",
              "            '<a target=\"_blank\" href=https://colab.research.google.com/notebooks/data_table.ipynb>data table notebook</a>'\n",
              "            + ' to learn more about interactive tables.';\n",
              "          element.innerHTML = '';\n",
              "          dataTable['output_type'] = 'display_data';\n",
              "          await google.colab.output.renderOutput(dataTable, element);\n",
              "          const docLink = document.createElement('div');\n",
              "          docLink.innerHTML = docLinkHtml;\n",
              "          element.appendChild(docLink);\n",
              "        }\n",
              "      </script>\n",
              "    </div>\n",
              "  </div>\n",
              "  "
            ]
          },
          "metadata": {},
          "execution_count": 43
        }
      ]
    },
    {
      "cell_type": "code",
      "source": [
        "#Nulos\n",
        "df_clean.isnull().sum()/df_clean.shape[0]"
      ],
      "metadata": {
        "colab": {
          "base_uri": "https://localhost:8080/"
        },
        "id": "jEbQDQzL1WVV",
        "outputId": "c533d526-8c98-4411-b958-f75297eb3f7b"
      },
      "execution_count": 44,
      "outputs": [
        {
          "output_type": "execute_result",
          "data": {
            "text/plain": [
              "Weekly_Sales    0.0\n",
              "Temperature     0.0\n",
              "Fuel_Price      0.0\n",
              "MarkDown1       0.0\n",
              "MarkDown2       0.0\n",
              "               ... \n",
              "Dept_95         0.0\n",
              "Dept_96         0.0\n",
              "Dept_97         0.0\n",
              "Dept_98         0.0\n",
              "Dept_99         0.0\n",
              "Length: 94, dtype: float64"
            ]
          },
          "metadata": {},
          "execution_count": 44
        }
      ]
    },
    {
      "cell_type": "code",
      "source": [
        "#Outros erros\n",
        "df_clean.tail()"
      ],
      "metadata": {
        "colab": {
          "base_uri": "https://localhost:8080/",
          "height": 236
        },
        "id": "FUNKdqVM1Zbu",
        "outputId": "30da6e0e-0782-4fe9-db89-4d973983cb81"
      },
      "execution_count": 45,
      "outputs": [
        {
          "output_type": "execute_result",
          "data": {
            "text/plain": [
              "        Weekly_Sales  Temperature  Fuel_Price  MarkDown1  MarkDown2  \\\n",
              "421565        508.37     0.259635    1.387032   1.101243   1.744573   \n",
              "421566        628.10     0.260177    1.360860   1.285082  -0.574830   \n",
              "421567       1061.02    -0.304773    1.393575   0.125909  -0.574830   \n",
              "421568        760.01    -0.196337    1.325965   0.143816  -0.574830   \n",
              "421569       1076.80    -0.067298    1.136222   0.899562   1.744573   \n",
              "\n",
              "        MarkDown3  MarkDown4  MarkDown5       CPI  Unemployment  ...  Dept_90  \\\n",
              "421565  -0.279740   1.878585   1.090661  0.531461      0.568935  ...        0   \n",
              "421566   1.848522   1.878585   0.593021  0.535467      0.557586  ...        0   \n",
              "421567   1.100930   0.798601   1.459225  0.539472      0.557586  ...        0   \n",
              "421568   0.083253   0.422415   0.171856  0.539564      0.557586  ...        0   \n",
              "421569   1.848522  -0.103231  -0.184569  0.539003      0.557586  ...        0   \n",
              "\n",
              "        Dept_91  Dept_92  Dept_93  Dept_94  Dept_95  Dept_96  Dept_97  \\\n",
              "421565        0        0        0        0        0        0        0   \n",
              "421566        0        0        0        0        0        0        0   \n",
              "421567        0        0        0        0        0        0        0   \n",
              "421568        0        0        0        0        0        0        0   \n",
              "421569        0        0        0        0        0        0        0   \n",
              "\n",
              "        Dept_98  Dept_99  \n",
              "421565        1        0  \n",
              "421566        1        0  \n",
              "421567        1        0  \n",
              "421568        1        0  \n",
              "421569        1        0  \n",
              "\n",
              "[5 rows x 94 columns]"
            ],
            "text/html": [
              "\n",
              "  <div id=\"df-da1269a0-1c98-4882-9ccf-325d083dd8b2\">\n",
              "    <div class=\"colab-df-container\">\n",
              "      <div>\n",
              "<style scoped>\n",
              "    .dataframe tbody tr th:only-of-type {\n",
              "        vertical-align: middle;\n",
              "    }\n",
              "\n",
              "    .dataframe tbody tr th {\n",
              "        vertical-align: top;\n",
              "    }\n",
              "\n",
              "    .dataframe thead th {\n",
              "        text-align: right;\n",
              "    }\n",
              "</style>\n",
              "<table border=\"1\" class=\"dataframe\">\n",
              "  <thead>\n",
              "    <tr style=\"text-align: right;\">\n",
              "      <th></th>\n",
              "      <th>Weekly_Sales</th>\n",
              "      <th>Temperature</th>\n",
              "      <th>Fuel_Price</th>\n",
              "      <th>MarkDown1</th>\n",
              "      <th>MarkDown2</th>\n",
              "      <th>MarkDown3</th>\n",
              "      <th>MarkDown4</th>\n",
              "      <th>MarkDown5</th>\n",
              "      <th>CPI</th>\n",
              "      <th>Unemployment</th>\n",
              "      <th>...</th>\n",
              "      <th>Dept_90</th>\n",
              "      <th>Dept_91</th>\n",
              "      <th>Dept_92</th>\n",
              "      <th>Dept_93</th>\n",
              "      <th>Dept_94</th>\n",
              "      <th>Dept_95</th>\n",
              "      <th>Dept_96</th>\n",
              "      <th>Dept_97</th>\n",
              "      <th>Dept_98</th>\n",
              "      <th>Dept_99</th>\n",
              "    </tr>\n",
              "  </thead>\n",
              "  <tbody>\n",
              "    <tr>\n",
              "      <th>421565</th>\n",
              "      <td>508.37</td>\n",
              "      <td>0.259635</td>\n",
              "      <td>1.387032</td>\n",
              "      <td>1.101243</td>\n",
              "      <td>1.744573</td>\n",
              "      <td>-0.279740</td>\n",
              "      <td>1.878585</td>\n",
              "      <td>1.090661</td>\n",
              "      <td>0.531461</td>\n",
              "      <td>0.568935</td>\n",
              "      <td>...</td>\n",
              "      <td>0</td>\n",
              "      <td>0</td>\n",
              "      <td>0</td>\n",
              "      <td>0</td>\n",
              "      <td>0</td>\n",
              "      <td>0</td>\n",
              "      <td>0</td>\n",
              "      <td>0</td>\n",
              "      <td>1</td>\n",
              "      <td>0</td>\n",
              "    </tr>\n",
              "    <tr>\n",
              "      <th>421566</th>\n",
              "      <td>628.10</td>\n",
              "      <td>0.260177</td>\n",
              "      <td>1.360860</td>\n",
              "      <td>1.285082</td>\n",
              "      <td>-0.574830</td>\n",
              "      <td>1.848522</td>\n",
              "      <td>1.878585</td>\n",
              "      <td>0.593021</td>\n",
              "      <td>0.535467</td>\n",
              "      <td>0.557586</td>\n",
              "      <td>...</td>\n",
              "      <td>0</td>\n",
              "      <td>0</td>\n",
              "      <td>0</td>\n",
              "      <td>0</td>\n",
              "      <td>0</td>\n",
              "      <td>0</td>\n",
              "      <td>0</td>\n",
              "      <td>0</td>\n",
              "      <td>1</td>\n",
              "      <td>0</td>\n",
              "    </tr>\n",
              "    <tr>\n",
              "      <th>421567</th>\n",
              "      <td>1061.02</td>\n",
              "      <td>-0.304773</td>\n",
              "      <td>1.393575</td>\n",
              "      <td>0.125909</td>\n",
              "      <td>-0.574830</td>\n",
              "      <td>1.100930</td>\n",
              "      <td>0.798601</td>\n",
              "      <td>1.459225</td>\n",
              "      <td>0.539472</td>\n",
              "      <td>0.557586</td>\n",
              "      <td>...</td>\n",
              "      <td>0</td>\n",
              "      <td>0</td>\n",
              "      <td>0</td>\n",
              "      <td>0</td>\n",
              "      <td>0</td>\n",
              "      <td>0</td>\n",
              "      <td>0</td>\n",
              "      <td>0</td>\n",
              "      <td>1</td>\n",
              "      <td>0</td>\n",
              "    </tr>\n",
              "    <tr>\n",
              "      <th>421568</th>\n",
              "      <td>760.01</td>\n",
              "      <td>-0.196337</td>\n",
              "      <td>1.325965</td>\n",
              "      <td>0.143816</td>\n",
              "      <td>-0.574830</td>\n",
              "      <td>0.083253</td>\n",
              "      <td>0.422415</td>\n",
              "      <td>0.171856</td>\n",
              "      <td>0.539564</td>\n",
              "      <td>0.557586</td>\n",
              "      <td>...</td>\n",
              "      <td>0</td>\n",
              "      <td>0</td>\n",
              "      <td>0</td>\n",
              "      <td>0</td>\n",
              "      <td>0</td>\n",
              "      <td>0</td>\n",
              "      <td>0</td>\n",
              "      <td>0</td>\n",
              "      <td>1</td>\n",
              "      <td>0</td>\n",
              "    </tr>\n",
              "    <tr>\n",
              "      <th>421569</th>\n",
              "      <td>1076.80</td>\n",
              "      <td>-0.067298</td>\n",
              "      <td>1.136222</td>\n",
              "      <td>0.899562</td>\n",
              "      <td>1.744573</td>\n",
              "      <td>1.848522</td>\n",
              "      <td>-0.103231</td>\n",
              "      <td>-0.184569</td>\n",
              "      <td>0.539003</td>\n",
              "      <td>0.557586</td>\n",
              "      <td>...</td>\n",
              "      <td>0</td>\n",
              "      <td>0</td>\n",
              "      <td>0</td>\n",
              "      <td>0</td>\n",
              "      <td>0</td>\n",
              "      <td>0</td>\n",
              "      <td>0</td>\n",
              "      <td>0</td>\n",
              "      <td>1</td>\n",
              "      <td>0</td>\n",
              "    </tr>\n",
              "  </tbody>\n",
              "</table>\n",
              "<p>5 rows × 94 columns</p>\n",
              "</div>\n",
              "      <button class=\"colab-df-convert\" onclick=\"convertToInteractive('df-da1269a0-1c98-4882-9ccf-325d083dd8b2')\"\n",
              "              title=\"Convert this dataframe to an interactive table.\"\n",
              "              style=\"display:none;\">\n",
              "        \n",
              "  <svg xmlns=\"http://www.w3.org/2000/svg\" height=\"24px\"viewBox=\"0 0 24 24\"\n",
              "       width=\"24px\">\n",
              "    <path d=\"M0 0h24v24H0V0z\" fill=\"none\"/>\n",
              "    <path d=\"M18.56 5.44l.94 2.06.94-2.06 2.06-.94-2.06-.94-.94-2.06-.94 2.06-2.06.94zm-11 1L8.5 8.5l.94-2.06 2.06-.94-2.06-.94L8.5 2.5l-.94 2.06-2.06.94zm10 10l.94 2.06.94-2.06 2.06-.94-2.06-.94-.94-2.06-.94 2.06-2.06.94z\"/><path d=\"M17.41 7.96l-1.37-1.37c-.4-.4-.92-.59-1.43-.59-.52 0-1.04.2-1.43.59L10.3 9.45l-7.72 7.72c-.78.78-.78 2.05 0 2.83L4 21.41c.39.39.9.59 1.41.59.51 0 1.02-.2 1.41-.59l7.78-7.78 2.81-2.81c.8-.78.8-2.07 0-2.86zM5.41 20L4 18.59l7.72-7.72 1.47 1.35L5.41 20z\"/>\n",
              "  </svg>\n",
              "      </button>\n",
              "      \n",
              "  <style>\n",
              "    .colab-df-container {\n",
              "      display:flex;\n",
              "      flex-wrap:wrap;\n",
              "      gap: 12px;\n",
              "    }\n",
              "\n",
              "    .colab-df-convert {\n",
              "      background-color: #E8F0FE;\n",
              "      border: none;\n",
              "      border-radius: 50%;\n",
              "      cursor: pointer;\n",
              "      display: none;\n",
              "      fill: #1967D2;\n",
              "      height: 32px;\n",
              "      padding: 0 0 0 0;\n",
              "      width: 32px;\n",
              "    }\n",
              "\n",
              "    .colab-df-convert:hover {\n",
              "      background-color: #E2EBFA;\n",
              "      box-shadow: 0px 1px 2px rgba(60, 64, 67, 0.3), 0px 1px 3px 1px rgba(60, 64, 67, 0.15);\n",
              "      fill: #174EA6;\n",
              "    }\n",
              "\n",
              "    [theme=dark] .colab-df-convert {\n",
              "      background-color: #3B4455;\n",
              "      fill: #D2E3FC;\n",
              "    }\n",
              "\n",
              "    [theme=dark] .colab-df-convert:hover {\n",
              "      background-color: #434B5C;\n",
              "      box-shadow: 0px 1px 3px 1px rgba(0, 0, 0, 0.15);\n",
              "      filter: drop-shadow(0px 1px 2px rgba(0, 0, 0, 0.3));\n",
              "      fill: #FFFFFF;\n",
              "    }\n",
              "  </style>\n",
              "\n",
              "      <script>\n",
              "        const buttonEl =\n",
              "          document.querySelector('#df-da1269a0-1c98-4882-9ccf-325d083dd8b2 button.colab-df-convert');\n",
              "        buttonEl.style.display =\n",
              "          google.colab.kernel.accessAllowed ? 'block' : 'none';\n",
              "\n",
              "        async function convertToInteractive(key) {\n",
              "          const element = document.querySelector('#df-da1269a0-1c98-4882-9ccf-325d083dd8b2');\n",
              "          const dataTable =\n",
              "            await google.colab.kernel.invokeFunction('convertToInteractive',\n",
              "                                                     [key], {});\n",
              "          if (!dataTable) return;\n",
              "\n",
              "          const docLinkHtml = 'Like what you see? Visit the ' +\n",
              "            '<a target=\"_blank\" href=https://colab.research.google.com/notebooks/data_table.ipynb>data table notebook</a>'\n",
              "            + ' to learn more about interactive tables.';\n",
              "          element.innerHTML = '';\n",
              "          dataTable['output_type'] = 'display_data';\n",
              "          await google.colab.output.renderOutput(dataTable, element);\n",
              "          const docLink = document.createElement('div');\n",
              "          docLink.innerHTML = docLinkHtml;\n",
              "          element.appendChild(docLink);\n",
              "        }\n",
              "      </script>\n",
              "    </div>\n",
              "  </div>\n",
              "  "
            ]
          },
          "metadata": {},
          "execution_count": 45
        }
      ]
    },
    {
      "cell_type": "markdown",
      "source": [
        "## 1.3 Treinamento do modelo - Amostra"
      ],
      "metadata": {
        "id": "3j9826PQKnG8"
      }
    },
    {
      "cell_type": "markdown",
      "source": [
        "### 1.3.1 Separação de treino e teste"
      ],
      "metadata": {
        "id": "7-4hMr_GKaio"
      }
    },
    {
      "cell_type": "code",
      "source": [
        "df_amostra = df_clean.sample(n = 1000, random_state = 132)"
      ],
      "metadata": {
        "id": "tQSMaToYvM9f"
      },
      "execution_count": 46,
      "outputs": []
    },
    {
      "cell_type": "code",
      "source": [
        "X = df_amostra.drop('Weekly_Sales', axis = 1)\n",
        "y = df_amostra['Weekly_Sales']\n",
        "\n",
        "X_train, X_test, y_train, y_test = train_test_split(X, y, test_size=0.2, random_state = 45)"
      ],
      "metadata": {
        "id": "NWtrzwliwoZN"
      },
      "execution_count": 47,
      "outputs": []
    },
    {
      "cell_type": "markdown",
      "source": [
        "### 1.3.2 Escolha do melhor modelo"
      ],
      "metadata": {
        "id": "oeYkV-SUKwAu"
      }
    },
    {
      "cell_type": "code",
      "source": [
        "# Treinamento e validação dos Modelos\n",
        "\n",
        "models = {\n",
        "    'LinearReg': LinearRegression(),\n",
        "    'RidgeReg': Ridge(),\n",
        "    'LassoReg': Lasso(),\n",
        "    'ElasticNetReg': ElasticNet(),\n",
        "    'HuberReg': HuberRegressor(),\n",
        "    'LassoCV': LassoCV(),\n",
        "    'ElasticNetCV': ElasticNetCV(),\n",
        "    'LassoLars': LassoLars(),\n",
        "    'BayesianRidge': BayesianRidge(),\n",
        "    'DecisionTreeRegressor': DecisionTreeRegressor(),\n",
        "    'SVM_RBF':SVR(kernel='rbf'),\n",
        "    'SVM_POLY':SVR(kernel='poly'),\n",
        "    'SVM_LINEAR':SVR(kernel='linear',max_iter=10**4),\n",
        "    'SVM_SIG':SVR(kernel='sigmoid'),\n",
        "    'SGDRegressor':SGDRegressor(),\n",
        "    'RandomForestRegressor':RandomForestRegressor(),\n",
        "    'AdaBoostRegressor':AdaBoostRegressor(),\n",
        "    'GradientBoostingRegressor':GradientBoostingRegressor(),\n",
        "    'ExtraTreesRegressor':ExtraTreesRegressor()\n",
        "}\n",
        "\n",
        "#Training all models\n",
        "for model in models.values():\n",
        "    model.fit(X_train, y_train);\n",
        "\n",
        "#Validação dos modelos\n",
        "\n",
        "MSE = []\n",
        "MAE = []\n",
        "nome = []\n",
        "for name, model in models.items():\n",
        "    nome.append(name)\n",
        "    y_pred = model.predict(X_test)\n",
        "    MSE.append(np.sqrt(metrics.mean_squared_error(y_test,y_pred)))\n",
        "    MAE.append(metrics.mean_absolute_error(y_test,y_pred))"
      ],
      "metadata": {
        "id": "mGsz_oPUvNjq"
      },
      "execution_count": 48,
      "outputs": []
    },
    {
      "cell_type": "code",
      "source": [
        "# Melhores modelos a partir das métricas de erro\n",
        "teste = pd.DataFrame({'Modelo': nome, 'MSE': MSE, 'MAE':MAE})\n",
        "teste.nsmallest(10,['MSE'])"
      ],
      "metadata": {
        "colab": {
          "base_uri": "https://localhost:8080/",
          "height": 363
        },
        "id": "08zAJHzr4JWH",
        "outputId": "73a201a8-8b83-4eda-8781-a5388f447f5a"
      },
      "execution_count": 49,
      "outputs": [
        {
          "output_type": "execute_result",
          "data": {
            "text/plain": [
              "                   Modelo          MSE          MAE\n",
              "18    ExtraTreesRegressor  8027.668926  5291.848623\n",
              "15  RandomForestRegressor  8800.896625  5952.242563\n",
              "1                RidgeReg  8826.423620  6846.813284\n",
              "8           BayesianRidge  8832.163192  6830.352906\n",
              "5                 LassoCV  8882.434401  6839.729823\n",
              "7               LassoLars  8887.053370  6844.097674\n",
              "2                LassoReg  8915.857517  6878.729659\n",
              "0               LinearReg  8944.531005  6891.380390\n",
              "14           SGDRegressor  8951.663322  6939.273947\n",
              "4                HuberReg  9175.315565  6456.436545"
            ],
            "text/html": [
              "\n",
              "  <div id=\"df-1564de12-1817-437e-a723-178b0c194120\">\n",
              "    <div class=\"colab-df-container\">\n",
              "      <div>\n",
              "<style scoped>\n",
              "    .dataframe tbody tr th:only-of-type {\n",
              "        vertical-align: middle;\n",
              "    }\n",
              "\n",
              "    .dataframe tbody tr th {\n",
              "        vertical-align: top;\n",
              "    }\n",
              "\n",
              "    .dataframe thead th {\n",
              "        text-align: right;\n",
              "    }\n",
              "</style>\n",
              "<table border=\"1\" class=\"dataframe\">\n",
              "  <thead>\n",
              "    <tr style=\"text-align: right;\">\n",
              "      <th></th>\n",
              "      <th>Modelo</th>\n",
              "      <th>MSE</th>\n",
              "      <th>MAE</th>\n",
              "    </tr>\n",
              "  </thead>\n",
              "  <tbody>\n",
              "    <tr>\n",
              "      <th>18</th>\n",
              "      <td>ExtraTreesRegressor</td>\n",
              "      <td>8027.668926</td>\n",
              "      <td>5291.848623</td>\n",
              "    </tr>\n",
              "    <tr>\n",
              "      <th>15</th>\n",
              "      <td>RandomForestRegressor</td>\n",
              "      <td>8800.896625</td>\n",
              "      <td>5952.242563</td>\n",
              "    </tr>\n",
              "    <tr>\n",
              "      <th>1</th>\n",
              "      <td>RidgeReg</td>\n",
              "      <td>8826.423620</td>\n",
              "      <td>6846.813284</td>\n",
              "    </tr>\n",
              "    <tr>\n",
              "      <th>8</th>\n",
              "      <td>BayesianRidge</td>\n",
              "      <td>8832.163192</td>\n",
              "      <td>6830.352906</td>\n",
              "    </tr>\n",
              "    <tr>\n",
              "      <th>5</th>\n",
              "      <td>LassoCV</td>\n",
              "      <td>8882.434401</td>\n",
              "      <td>6839.729823</td>\n",
              "    </tr>\n",
              "    <tr>\n",
              "      <th>7</th>\n",
              "      <td>LassoLars</td>\n",
              "      <td>8887.053370</td>\n",
              "      <td>6844.097674</td>\n",
              "    </tr>\n",
              "    <tr>\n",
              "      <th>2</th>\n",
              "      <td>LassoReg</td>\n",
              "      <td>8915.857517</td>\n",
              "      <td>6878.729659</td>\n",
              "    </tr>\n",
              "    <tr>\n",
              "      <th>0</th>\n",
              "      <td>LinearReg</td>\n",
              "      <td>8944.531005</td>\n",
              "      <td>6891.380390</td>\n",
              "    </tr>\n",
              "    <tr>\n",
              "      <th>14</th>\n",
              "      <td>SGDRegressor</td>\n",
              "      <td>8951.663322</td>\n",
              "      <td>6939.273947</td>\n",
              "    </tr>\n",
              "    <tr>\n",
              "      <th>4</th>\n",
              "      <td>HuberReg</td>\n",
              "      <td>9175.315565</td>\n",
              "      <td>6456.436545</td>\n",
              "    </tr>\n",
              "  </tbody>\n",
              "</table>\n",
              "</div>\n",
              "      <button class=\"colab-df-convert\" onclick=\"convertToInteractive('df-1564de12-1817-437e-a723-178b0c194120')\"\n",
              "              title=\"Convert this dataframe to an interactive table.\"\n",
              "              style=\"display:none;\">\n",
              "        \n",
              "  <svg xmlns=\"http://www.w3.org/2000/svg\" height=\"24px\"viewBox=\"0 0 24 24\"\n",
              "       width=\"24px\">\n",
              "    <path d=\"M0 0h24v24H0V0z\" fill=\"none\"/>\n",
              "    <path d=\"M18.56 5.44l.94 2.06.94-2.06 2.06-.94-2.06-.94-.94-2.06-.94 2.06-2.06.94zm-11 1L8.5 8.5l.94-2.06 2.06-.94-2.06-.94L8.5 2.5l-.94 2.06-2.06.94zm10 10l.94 2.06.94-2.06 2.06-.94-2.06-.94-.94-2.06-.94 2.06-2.06.94z\"/><path d=\"M17.41 7.96l-1.37-1.37c-.4-.4-.92-.59-1.43-.59-.52 0-1.04.2-1.43.59L10.3 9.45l-7.72 7.72c-.78.78-.78 2.05 0 2.83L4 21.41c.39.39.9.59 1.41.59.51 0 1.02-.2 1.41-.59l7.78-7.78 2.81-2.81c.8-.78.8-2.07 0-2.86zM5.41 20L4 18.59l7.72-7.72 1.47 1.35L5.41 20z\"/>\n",
              "  </svg>\n",
              "      </button>\n",
              "      \n",
              "  <style>\n",
              "    .colab-df-container {\n",
              "      display:flex;\n",
              "      flex-wrap:wrap;\n",
              "      gap: 12px;\n",
              "    }\n",
              "\n",
              "    .colab-df-convert {\n",
              "      background-color: #E8F0FE;\n",
              "      border: none;\n",
              "      border-radius: 50%;\n",
              "      cursor: pointer;\n",
              "      display: none;\n",
              "      fill: #1967D2;\n",
              "      height: 32px;\n",
              "      padding: 0 0 0 0;\n",
              "      width: 32px;\n",
              "    }\n",
              "\n",
              "    .colab-df-convert:hover {\n",
              "      background-color: #E2EBFA;\n",
              "      box-shadow: 0px 1px 2px rgba(60, 64, 67, 0.3), 0px 1px 3px 1px rgba(60, 64, 67, 0.15);\n",
              "      fill: #174EA6;\n",
              "    }\n",
              "\n",
              "    [theme=dark] .colab-df-convert {\n",
              "      background-color: #3B4455;\n",
              "      fill: #D2E3FC;\n",
              "    }\n",
              "\n",
              "    [theme=dark] .colab-df-convert:hover {\n",
              "      background-color: #434B5C;\n",
              "      box-shadow: 0px 1px 3px 1px rgba(0, 0, 0, 0.15);\n",
              "      filter: drop-shadow(0px 1px 2px rgba(0, 0, 0, 0.3));\n",
              "      fill: #FFFFFF;\n",
              "    }\n",
              "  </style>\n",
              "\n",
              "      <script>\n",
              "        const buttonEl =\n",
              "          document.querySelector('#df-1564de12-1817-437e-a723-178b0c194120 button.colab-df-convert');\n",
              "        buttonEl.style.display =\n",
              "          google.colab.kernel.accessAllowed ? 'block' : 'none';\n",
              "\n",
              "        async function convertToInteractive(key) {\n",
              "          const element = document.querySelector('#df-1564de12-1817-437e-a723-178b0c194120');\n",
              "          const dataTable =\n",
              "            await google.colab.kernel.invokeFunction('convertToInteractive',\n",
              "                                                     [key], {});\n",
              "          if (!dataTable) return;\n",
              "\n",
              "          const docLinkHtml = 'Like what you see? Visit the ' +\n",
              "            '<a target=\"_blank\" href=https://colab.research.google.com/notebooks/data_table.ipynb>data table notebook</a>'\n",
              "            + ' to learn more about interactive tables.';\n",
              "          element.innerHTML = '';\n",
              "          dataTable['output_type'] = 'display_data';\n",
              "          await google.colab.output.renderOutput(dataTable, element);\n",
              "          const docLink = document.createElement('div');\n",
              "          docLink.innerHTML = docLinkHtml;\n",
              "          element.appendChild(docLink);\n",
              "        }\n",
              "      </script>\n",
              "    </div>\n",
              "  </div>\n",
              "  "
            ]
          },
          "metadata": {},
          "execution_count": 49
        }
      ]
    },
    {
      "cell_type": "markdown",
      "source": [
        "A métrica escolhida para filtrar os melhores modelos foi o MSE, pois não queremos que a previsão do faturamento semanal \"Weekly_Sales\" seja muito discrepante. Pequenos erros são aceitáveis, porém grandes erros não."
      ],
      "metadata": {
        "id": "K7U0aRz0rHix"
      }
    },
    {
      "cell_type": "markdown",
      "source": [
        "### 1.3.3 Ajuste dos hiperparâmetros - amostra"
      ],
      "metadata": {
        "id": "kbHERHNNKz25"
      }
    },
    {
      "cell_type": "code",
      "source": [
        "#Utilizando ExtraTreesRegressor como modelo\n",
        "ETR = ExtraTreesRegressor()\n",
        "parameters = {'max_depth': [None, 10, 40, 100],\n",
        "              'min_samples_split': [2, 3, 4, 5],\n",
        "              'min_samples_leaf': [1, 2, 5, 10],\n",
        "              'min_weight_fraction_leaf' : [0, 0.5, 1, 1.5],\n",
        "              'max_features': [1, 4, 10, 60, 100],\n",
        "              'min_impurity_decrease': [0, 0.5, 1, 1.5],\n",
        "                 }\n",
        "\n",
        "reg = GridSearchCV(estimator = ETR, param_grid = parameters, cv = 2, n_jobs=-1)\n",
        "reg.fit(X_train, y_train)"
      ],
      "metadata": {
        "colab": {
          "base_uri": "https://localhost:8080/"
        },
        "id": "lAip3fOhvOGS",
        "outputId": "17d9e9f2-753a-4055-a29d-b117ff944a10"
      },
      "execution_count": 50,
      "outputs": [
        {
          "output_type": "execute_result",
          "data": {
            "text/plain": [
              "GridSearchCV(cv=2, estimator=ExtraTreesRegressor(), n_jobs=-1,\n",
              "             param_grid={'max_depth': [None, 10, 40, 100],\n",
              "                         'max_features': [1, 4, 10, 60, 100],\n",
              "                         'min_impurity_decrease': [0, 0.5, 1, 1.5],\n",
              "                         'min_samples_leaf': [1, 2, 5, 10],\n",
              "                         'min_samples_split': [2, 3, 4, 5],\n",
              "                         'min_weight_fraction_leaf': [0, 0.5, 1, 1.5]})"
            ]
          },
          "metadata": {},
          "execution_count": 50
        }
      ]
    },
    {
      "cell_type": "code",
      "source": [
        "#Parâmetros do melhor modelo\n",
        "reg_best = reg.best_estimator_\n",
        "reg_best"
      ],
      "metadata": {
        "colab": {
          "base_uri": "https://localhost:8080/"
        },
        "id": "DM8tODE_5Tvd",
        "outputId": "b5c70914-de65-4ee6-dfe7-b11a60ded011"
      },
      "execution_count": 51,
      "outputs": [
        {
          "output_type": "execute_result",
          "data": {
            "text/plain": [
              "ExtraTreesRegressor(max_depth=40, max_features=60, min_impurity_decrease=1,\n",
              "                    min_weight_fraction_leaf=0)"
            ]
          },
          "metadata": {},
          "execution_count": 51
        }
      ]
    },
    {
      "cell_type": "code",
      "source": [
        "# Cálculo das Melhores métricas atingidas no Mini-Case\n",
        "reg_best.fit(X_train,y_train)\n",
        "y_pred = reg_best.predict(X_test)\n",
        "print('-------------------------')\n",
        "print(name + \"\\n MSE: {:.4F}\\n MAE: {:.4F}\".format(np.sqrt(metrics.mean_squared_error(y_test,y_pred)),metrics.mean_absolute_error(y_test,y_pred)))\n",
        "print('-------------------------')"
      ],
      "metadata": {
        "colab": {
          "base_uri": "https://localhost:8080/"
        },
        "id": "RpgaPFfu5YFM",
        "outputId": "259cd92e-80db-4c96-aff6-e5d146fe16f9"
      },
      "execution_count": 52,
      "outputs": [
        {
          "output_type": "stream",
          "name": "stdout",
          "text": [
            "-------------------------\n",
            "ExtraTreesRegressor\n",
            " MSE: 7968.4399\n",
            " MAE: 5352.2068\n",
            "-------------------------\n"
          ]
        }
      ]
    },
    {
      "cell_type": "markdown",
      "source": [
        "## 1.4 Treinamento do modelo - Macro"
      ],
      "metadata": {
        "id": "eFRBmoK8LMYX"
      }
    },
    {
      "cell_type": "code",
      "source": [
        "#Separando dataset completo em conjunto de treino e teste\n",
        "X = df_clean.drop('Weekly_Sales', axis = 1)\n",
        "y = df_clean['Weekly_Sales']\n",
        "\n",
        "X_train, X_test, y_train, y_test = train_test_split(X, y, test_size=0.2, random_state = 2)"
      ],
      "metadata": {
        "id": "glZT4w-t52m5"
      },
      "execution_count": 56,
      "outputs": []
    },
    {
      "cell_type": "code",
      "source": [
        "#Utilizando ExtraTreesRegressor com os hiperparâmetros ajustados\n",
        "ETR = ExtraTreesRegressor(max_depth=40, max_features=60, min_impurity_decrease=1, min_weight_fraction_leaf=0)\n",
        "ETR.fit(X_train, y_train)"
      ],
      "metadata": {
        "id": "cuwP85GB5NQT",
        "colab": {
          "base_uri": "https://localhost:8080/"
        },
        "outputId": "5e8c200e-fa8b-4e06-bfe1-7bb48f445516"
      },
      "execution_count": 59,
      "outputs": [
        {
          "output_type": "execute_result",
          "data": {
            "text/plain": [
              "ExtraTreesRegressor(max_depth=40, max_features=60, min_impurity_decrease=1,\n",
              "                    min_weight_fraction_leaf=0)"
            ]
          },
          "metadata": {},
          "execution_count": 59
        }
      ]
    },
    {
      "cell_type": "code",
      "source": [
        "# Cálculo das Melhores métricas atingidas no Mini-Case\n",
        "y_pred = ETR.predict(X_test)\n",
        "print('-------------------------')\n",
        "print(name + \":\\n MSE: {:.4F}\\n MAE: {:.4F}\".format(np.sqrt(metrics.mean_squared_error(y_test,y_pred)), metrics.mean_absolute_error(y_test,y_pred)))\n",
        "print('-------------------------')"
      ],
      "metadata": {
        "id": "YnYyiCLS5xsS",
        "colab": {
          "base_uri": "https://localhost:8080/"
        },
        "outputId": "ff1b3242-d040-4f8f-addb-ab3356ac72f5"
      },
      "execution_count": 60,
      "outputs": [
        {
          "output_type": "stream",
          "name": "stdout",
          "text": [
            "-------------------------\n",
            "ExtraTreesRegressor:\n",
            " MSE: 4189.5201\n",
            " MAE: 2392.2780\n",
            "-------------------------\n"
          ]
        }
      ]
    }
  ]
}